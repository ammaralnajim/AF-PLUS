{
 "cells": [
  {
   "cell_type": "markdown",
   "id": "f7b098b9",
   "metadata": {},
   "source": [
    "# Split FastMRI"
   ]
  },
  {
   "cell_type": "code",
   "execution_count": 1,
   "id": "f8cf5d4f",
   "metadata": {
    "ExecuteTime": {
     "end_time": "2022-03-01T15:07:39.383631Z",
     "start_time": "2022-03-01T15:07:38.451241Z"
    }
   },
   "outputs": [],
   "source": [
    "# %cd ../\n",
    "import os\n",
    "import re\n",
    "import numpy as np\n",
    "import h5py\n",
    "from tqdm import tqdm\n",
    "from os.path import join\n",
    "from utils.kspace import spatial2kspace, kspace2spatial\n",
    "\n",
    "from config import PATH"
   ]
  },
  {
   "cell_type": "code",
   "execution_count": 2,
   "id": "6638f55b",
   "metadata": {
    "ExecuteTime": {
     "end_time": "2022-03-01T14:30:35.012033Z",
     "start_time": "2022-03-01T14:30:35.008529Z"
    }
   },
   "outputs": [],
   "source": [
    "def getFieldStrength(h_file):\n",
    "    ismhd = h_file['ismrmrd_header'][()]\n",
    "    match = re.findall(r'<systemFieldStrength_T>\\d\\.\\d*</systemFieldStrength_T>', str(ismhd))[0]\n",
    "    match = match.replace('<systemFieldStrength_T>', '')\n",
    "    match = match.replace('</systemFieldStrength_T>', '')\n",
    "    return 1.5 if float(match) < 2.0 else 3.0\n",
    "\n",
    "def getAcquisitionType(h_file):\n",
    "    return 'PD' if h_file.attrs['acquisition'] == 'CORPD_FBK' else 'PDFS'"
   ]
  },
  {
   "cell_type": "code",
   "execution_count": 4,
   "id": "682c8407",
   "metadata": {
    "ExecuteTime": {
     "end_time": "2022-03-01T14:24:11.757883Z",
     "start_time": "2022-03-01T14:24:11.033171Z"
    }
   },
   "outputs": [
    {
     "name": "stderr",
     "output_type": "stream",
     "text": [
      "  0%|          | 0/199 [00:00<?, ?it/s]<ipython-input-4-3760a111179a>:5: H5pyDeprecationWarning: The default file mode will change to 'r' (read-only) in h5py 3.0. To suppress this warning, pass the mode you need to h5py.File(), or set the global default h5.get_config().default_file_mode, or set the environment variable H5PY_DEFAULT_READONLY=1. Available modes are: 'r', 'r+', 'w', 'w-'/'x', 'a'. See the docs for details.\n",
      "  with h5py.File(os.path.join(DIR_PATH, fname)) as hf:\n",
      "100%|██████████| 199/199 [00:00<00:00, 282.98it/s]\n"
     ]
    }
   ],
   "source": [
    "DIR_PATH = '/home/a_razumov/smbmount_a_razumov/fastMRIdatasets/singlecoil_val/'\n",
    "hf_map = {}\n",
    "\n",
    "for fname in tqdm(os.listdir(DIR_PATH)):\n",
    "    with h5py.File(os.path.join(DIR_PATH, fname)) as hf:\n",
    "        hf_map[fname] = (getFieldStrength(hf), getAcquisitionType(hf))\n",
    "        \n",
    "PD_1T = [f for f,v in hf_map.items() if v == (1.5, 'PD')]\n",
    "PD_3T = [f for f,v in hf_map.items() if v == (3.0, 'PD')]\n",
    "PDFS_1T = [f for f,v in hf_map.items() if v == (1.5, 'PDFS')]\n",
    "PDFS_3T = [f for f,v in hf_map.items() if v == (3.0, 'PDFS')]"
   ]
  },
  {
   "cell_type": "code",
   "execution_count": null,
   "id": "ce061a4d",
   "metadata": {
    "ExecuteTime": {
     "end_time": "2022-03-01T14:24:15.383542Z",
     "start_time": "2022-03-01T14:24:12.697396Z"
    }
   },
   "outputs": [],
   "source": [
    "for f_list, name in [(PD_1T, 'PD_1T'), (PD_3T, 'PD_3T'), (PDFS_1T, 'PDFS_1T'), (PDFS_3T, 'PDFS_3T')]:\n",
    "    with h5py.File(PATH.VAL_PATH + '_%s.h5' % name, 'w') as f:\n",
    "        for fname in tqdm(f_list):\n",
    "            hf = h5py.File(join(DIR_PATH, fname))\n",
    "            f.create_dataset(fname, data=hf['kspace'][:])\n",
    "            hf.close()"
   ]
  },
  {
   "cell_type": "code",
   "execution_count": null,
   "id": "d230886e",
   "metadata": {},
   "outputs": [],
   "source": [
    "DIR_PATH = '/home/a_razumov/smbmount_a_razumov/fastMRIdatasets/singlecoil_train/'\n",
    "hf_map = {}\n",
    "\n",
    "for fname in tqdm(os.listdir(DIR_PATH)):\n",
    "    with h5py.File(os.path.join(DIR_PATH, fname)) as hf:\n",
    "        hf_map[fname] = (getFieldStrength(hf), getAcquisitionType(hf))\n",
    "        \n",
    "PD_1T = [f for f,v in hf_map.items() if v == (1.5, 'PD')]\n",
    "PD_3T = [f for f,v in hf_map.items() if v == (3.0, 'PD')]\n",
    "PDFS_1T = [f for f,v in hf_map.items() if v == (1.5, 'PDFS')]\n",
    "PDFS_3T = [f for f,v in hf_map.items() if v == (3.0, 'PDFS')]\n",
    "\n",
    "set(PD_1T + PD_3T + PDFS_1T + PDFS_3T) == set(hf_map.keys())"
   ]
  },
  {
   "cell_type": "code",
   "execution_count": null,
   "id": "9e7def5a",
   "metadata": {},
   "outputs": [],
   "source": [
    "for f_list, name in [(PD_1T, 'PD_1T'), (PD_3T, 'PD_3T'), (PDFS_1T, 'PDFS_1T'), (PDFS_3T, 'PDFS_3T')]:\n",
    "    with h5py.File(PATH.TRAIN_PATH + '_%s.h5' % name, 'w') as f:\n",
    "        for fname in tqdm(f_list):\n",
    "            hf = h5py.File(join(DIR_PATH, fname))\n",
    "            f.create_dataset(fname, data=hf['kspace'][:])\n",
    "            hf.close()"
   ]
  },
  {
   "cell_type": "markdown",
   "id": "8f773c05",
   "metadata": {},
   "source": [
    "# Create Corrupted Datasets"
   ]
  },
  {
   "cell_type": "code",
   "execution_count": 2,
   "id": "a3517591",
   "metadata": {
    "ExecuteTime": {
     "end_time": "2022-03-01T15:07:42.364318Z",
     "start_time": "2022-03-01T15:07:41.567382Z"
    }
   },
   "outputs": [
    {
     "name": "stdout",
     "output_type": "stream",
     "text": [
      "env: CUDA_VISIBLE_DEVICES=2\n"
     ]
    }
   ],
   "source": [
    "%env CUDA_VISIBLE_DEVICES=2\n",
    "import os\n",
    "from os.path import join\n",
    "\n",
    "import math\n",
    "import random\n",
    "import numpy as np\n",
    "import pylab as plt\n",
    "import torch\n",
    "import torch.nn.functional as F\n",
    "import h5py\n",
    "\n",
    "from utils.utils import plot_motion_vector\n",
    "from utils.fastmri import FastMRITransform, DemotionFastMRIh5Dataset\n",
    "from utils.kspace import RandomMotionTransform\n",
    "from utils.unet import Unet\n",
    "\n",
    "from tqdm import tqdm\n",
    "import skimage.data\n",
    "from utils.utils import l1_loss, t2i, psnr, ssim\n",
    "\n",
    "import sys\n",
    "sys.path.append(PATH.NUFFT_PATH)\n",
    "import nufft\n",
    "from torch.fft import fftshift, ifftshift, fftn, ifftn\n",
    "\n",
    "Ft = lambda x : fftshift(fftn(ifftshift(x, dim=(-1, -2)), dim=(-1, -2)), dim=(-1, -2))\n",
    "IFt = lambda x : ifftshift(ifftn(fftshift(x, dim=(-1, -2)), dim=(-1, -2)), dim=(-1, -2))\n",
    "from IPython.display import clear_output\n",
    "\n",
    "random.seed(228)\n",
    "torch.manual_seed(228)\n",
    "torch.cuda.manual_seed(228)\n",
    "np.random.seed(228)"
   ]
  },
  {
   "cell_type": "code",
   "execution_count": 3,
   "id": "08a28fc6",
   "metadata": {
    "ExecuteTime": {
     "end_time": "2022-03-01T15:07:43.157138Z",
     "start_time": "2022-03-01T15:07:43.134402Z"
    }
   },
   "outputs": [
    {
     "name": "stderr",
     "output_type": "stream",
     "text": [
      "/home/ekuzmina/AUTOFOCUSING-PLUS/utils/fastmri.py:101: H5pyDeprecationWarning: The default file mode will change to 'r' (read-only) in h5py 3.0. To suppress this warning, pass the mode you need to h5py.File(), or set the global default h5.get_config().default_file_mode, or set the environment variable H5PY_DEFAULT_READONLY=1. Available modes are: 'r', 'r+', 'w', 'w-'/'x', 'a'. See the docs for details.\n",
      "  self.hf = h5py.File(hf_path)\n"
     ]
    }
   ],
   "source": [
    "# Import motion class for the creation of corruptions\n",
    "DIR_PATH = '/home/a_razumov/small_datasets/small_fastMRIh5_PD_3T/val_small_PD_3T.h5'\n",
    "\n",
    "dataset = DemotionFastMRIh5Dataset(\n",
    "    DIR_PATH,\n",
    "    None,\n",
    "    RandomMotionTransform(xy_max=5, theta_max=1.5, num_motions=5,\n",
    "                          center_fractions=0.08, wave_num=6,\n",
    "                          motion_type='randomize_harmonic',\n",
    "                          noise_lvl=0), z_slices=0.1)"
   ]
  },
  {
   "cell_type": "code",
   "execution_count": 4,
   "id": "018de222",
   "metadata": {
    "ExecuteTime": {
     "end_time": "2022-03-01T15:08:09.941661Z",
     "start_time": "2022-03-01T15:07:43.844033Z"
    }
   },
   "outputs": [
    {
     "name": "stderr",
     "output_type": "stream",
     "text": [
      "100%|██████████| 53/53 [00:26<00:00,  2.03it/s]\n"
     ]
    }
   ],
   "source": [
    "with h5py.File(PATH.VAL_PATH + PATH.VAL_NAME, 'w') as f:\n",
    "    \n",
    "    for fname in tqdm(range(0, len(dataset), 2)):\n",
    "        batch = dataset[fname]\n",
    "        gt_ks = batch['target_k_space']\n",
    "        gt_ks = gt_ks[0] + 1j * gt_ks[1]\n",
    "        ks = batch['k_space']\n",
    "        ks = ks[0] + 1j * ks[1]\n",
    "        \n",
    "        ksp_gt_ksp = np.concatenate((ks[None].numpy(), gt_ks[None].numpy()), axis=0)\n",
    "            \n",
    "        f.create_dataset(str(fname), data=ksp_gt_ksp)"
   ]
  },
  {
   "cell_type": "markdown",
   "id": "370be385",
   "metadata": {},
   "source": [
    "## Validate Metrics of Created Dataset"
   ]
  },
  {
   "cell_type": "code",
   "execution_count": null,
   "id": "ba40cc9e",
   "metadata": {},
   "outputs": [],
   "source": [
    "hf = h5py.File(VAL_PATH + VAL_NAME)\n",
    "\n",
    "metrics = []\n",
    "for f in tqdm(sorted(list(hf.keys()))):\n",
    "    t = hf[f]\n",
    "    ks = t[0]\n",
    "    gt_ks = t[1]\n",
    "    \n",
    "    metrics.append(calc_metrics(torch.from_numpy(kspace2spatial(ks))[None, None],\n",
    "                                torch.from_numpy(kspace2spatial(gt_ks))[None, None]))\n",
    "    plt.imshow(kspace2spatial(ks))\n",
    "    plt.show()\n",
    "    \n",
    "val_psnr = [d['psnr'] for d in metrics]\n",
    "val_ssim = [[d['ssim'] for d in metrics]]\n",
    "val_ms = [d['ms_ssim'] for d in metrics]\n",
    "val_vif = [[d['vif_p'] for d in metrics]]\n",
    "val_psnr = np.array(val_psnr)\n",
    "val_ssim = np.array(val_ssim)\n",
    "val_ms = np.array(val_ms)\n",
    "val_vif = np.array(val_vif)\n",
    "print('PSNR: ', val_psnr.mean(), ' + ', val_psnr.std())\n",
    "print('SSIM: ', val_ssim.mean(), ' + ', val_ssim.std())\n",
    "print('MS-SSIM: ', val_ms.mean(), ' + ', val_ms.std())\n",
    "print('VIF: ', val_vif.mean(), ' + ', val_vif.std())"
   ]
  },
  {
   "cell_type": "code",
   "execution_count": null,
   "id": "f73032ac",
   "metadata": {},
   "outputs": [],
   "source": []
  },
  {
   "cell_type": "code",
   "execution_count": null,
   "id": "6d5a554e",
   "metadata": {},
   "outputs": [],
   "source": []
  }
 ],
 "metadata": {
  "kernelspec": {
   "display_name": "pytorch38",
   "language": "python",
   "name": "pytorch38"
  },
  "language_info": {
   "codemirror_mode": {
    "name": "ipython",
    "version": 3
   },
   "file_extension": ".py",
   "mimetype": "text/x-python",
   "name": "python",
   "nbconvert_exporter": "python",
   "pygments_lexer": "ipython3",
   "version": "3.8.11"
  }
 },
 "nbformat": 4,
 "nbformat_minor": 5
}
